{
 "cells": [
  {
   "cell_type": "markdown",
   "metadata": {
    "collapsed": true
   },
   "source": [
    "## People who write a 140-word message or a longer one have a little higher accepted rate than others, but the result is not significant because only 14% people write requests with 140 or less words. I suggest increasing the number of words to 320 so that the increase of accepted rate would be relatively large and more significant. Meanwhile, users should be willing to write a 320-words message because about 43% of users are doing this.\n",
    "## code and analysis are following:"
   ]
  },
  {
   "cell_type": "code",
   "execution_count": 1,
   "metadata": {},
   "outputs": [],
   "source": [
    "import pandas as pd\n",
    "import matplotlib.pyplot as plt\n",
    "import numpy as np\n",
    "import pandasql as pdsql\n",
    "import datetime as dt\n",
    "import seaborn as sna\n",
    "from scipy import stats\n",
    "%matplotlib inline\n",
    "users = pd.read_csv('./takehome_assignments.csv')\n",
    "contacts = pd.read_csv('./takehome_contacts.csv')\n",
    "users = users.drop_duplicates()\n",
    "contacts = contacts.drop_duplicates()"
   ]
  },
  {
   "cell_type": "code",
   "execution_count": 34,
   "metadata": {},
   "outputs": [
    {
     "data": {
      "text/html": [
       "<div>\n",
       "<style>\n",
       "    .dataframe thead tr:only-child th {\n",
       "        text-align: right;\n",
       "    }\n",
       "\n",
       "    .dataframe thead th {\n",
       "        text-align: left;\n",
       "    }\n",
       "\n",
       "    .dataframe tbody tr th {\n",
       "        vertical-align: top;\n",
       "    }\n",
       "</style>\n",
       "<table border=\"1\" class=\"dataframe\">\n",
       "  <thead>\n",
       "    <tr style=\"text-align: right;\">\n",
       "      <th></th>\n",
       "      <th>id_guest</th>\n",
       "      <th>id_host</th>\n",
       "      <th>id_listing</th>\n",
       "      <th>ts_interaction_first</th>\n",
       "      <th>ts_reply_at_first</th>\n",
       "      <th>ts_accepted_at_first</th>\n",
       "      <th>ts_booking_at</th>\n",
       "      <th>dim_contact_channel</th>\n",
       "      <th>m_first_message_length</th>\n",
       "      <th>id_user</th>\n",
       "      <th>ab</th>\n",
       "    </tr>\n",
       "  </thead>\n",
       "  <tbody>\n",
       "    <tr>\n",
       "      <th>0</th>\n",
       "      <td>f966752c-8533-48b2-af6f-8c6797d2b247</td>\n",
       "      <td>4405ab66-1c68-449b-abd9-1ad1892a6c4d</td>\n",
       "      <td>fe07e0c4-c317-44bc-a82d-5b599a248049</td>\n",
       "      <td>1/1/13 23:04</td>\n",
       "      <td>15:23.0</td>\n",
       "      <td>NaN</td>\n",
       "      <td>NaN</td>\n",
       "      <td>contact_me</td>\n",
       "      <td>230.0</td>\n",
       "      <td>f966752c-8533-48b2-af6f-8c6797d2b247</td>\n",
       "      <td>treatment</td>\n",
       "    </tr>\n",
       "    <tr>\n",
       "      <th>1</th>\n",
       "      <td>873f93fb-234c-4cfb-83c7-27ff0e582a8e</td>\n",
       "      <td>aa41b57b-e29f-4c95-bf27-48f27519e419</td>\n",
       "      <td>d47717da-315a-42c2-8888-9b7d4bea8829</td>\n",
       "      <td>1/2/13 0:21</td>\n",
       "      <td>38:31.0</td>\n",
       "      <td>NaN</td>\n",
       "      <td>NaN</td>\n",
       "      <td>contact_me</td>\n",
       "      <td>98.0</td>\n",
       "      <td>873f93fb-234c-4cfb-83c7-27ff0e582a8e</td>\n",
       "      <td>treatment</td>\n",
       "    </tr>\n",
       "    <tr>\n",
       "      <th>2</th>\n",
       "      <td>7308791e-04c3-416a-be2d-4188816decc2</td>\n",
       "      <td>8b118ba1-b439-493e-88c7-2c89a81cec1b</td>\n",
       "      <td>ac231804-951c-4fcb-a0e6-1a4aecbfb6ce</td>\n",
       "      <td>1/2/13 2:30</td>\n",
       "      <td>06:10.0</td>\n",
       "      <td>06:10.0</td>\n",
       "      <td>NaN</td>\n",
       "      <td>contact_me</td>\n",
       "      <td>278.0</td>\n",
       "      <td>7308791e-04c3-416a-be2d-4188816decc2</td>\n",
       "      <td>control</td>\n",
       "    </tr>\n",
       "    <tr>\n",
       "      <th>3</th>\n",
       "      <td>097c48a4-f4b6-4870-bf29-370e33de868e</td>\n",
       "      <td>140b0847-549d-4c77-bb8c-7cea16914871</td>\n",
       "      <td>727357bd-8031-4e59-b812-22cfa617e031</td>\n",
       "      <td>1/2/13 3:24</td>\n",
       "      <td>49:08.0</td>\n",
       "      <td>NaN</td>\n",
       "      <td>NaN</td>\n",
       "      <td>contact_me</td>\n",
       "      <td>785.0</td>\n",
       "      <td>097c48a4-f4b6-4870-bf29-370e33de868e</td>\n",
       "      <td>control</td>\n",
       "    </tr>\n",
       "    <tr>\n",
       "      <th>4</th>\n",
       "      <td>6ff7a902-541b-4eee-ace4-673262b95a94</td>\n",
       "      <td>3633b49c-9f63-499d-a9b1-f1e686832e7b</td>\n",
       "      <td>97c8c06a-0b01-45d1-b9b4-5771aa919f67</td>\n",
       "      <td>1/2/13 7:11</td>\n",
       "      <td>56:39.0</td>\n",
       "      <td>56:39.0</td>\n",
       "      <td>NaN</td>\n",
       "      <td>contact_me</td>\n",
       "      <td>69.0</td>\n",
       "      <td>6ff7a902-541b-4eee-ace4-673262b95a94</td>\n",
       "      <td>control</td>\n",
       "    </tr>\n",
       "  </tbody>\n",
       "</table>\n",
       "</div>"
      ],
      "text/plain": [
       "                               id_guest                               id_host  \\\n",
       "0  f966752c-8533-48b2-af6f-8c6797d2b247  4405ab66-1c68-449b-abd9-1ad1892a6c4d   \n",
       "1  873f93fb-234c-4cfb-83c7-27ff0e582a8e  aa41b57b-e29f-4c95-bf27-48f27519e419   \n",
       "2  7308791e-04c3-416a-be2d-4188816decc2  8b118ba1-b439-493e-88c7-2c89a81cec1b   \n",
       "3  097c48a4-f4b6-4870-bf29-370e33de868e  140b0847-549d-4c77-bb8c-7cea16914871   \n",
       "4  6ff7a902-541b-4eee-ace4-673262b95a94  3633b49c-9f63-499d-a9b1-f1e686832e7b   \n",
       "\n",
       "                             id_listing ts_interaction_first  \\\n",
       "0  fe07e0c4-c317-44bc-a82d-5b599a248049         1/1/13 23:04   \n",
       "1  d47717da-315a-42c2-8888-9b7d4bea8829          1/2/13 0:21   \n",
       "2  ac231804-951c-4fcb-a0e6-1a4aecbfb6ce          1/2/13 2:30   \n",
       "3  727357bd-8031-4e59-b812-22cfa617e031          1/2/13 3:24   \n",
       "4  97c8c06a-0b01-45d1-b9b4-5771aa919f67          1/2/13 7:11   \n",
       "\n",
       "  ts_reply_at_first ts_accepted_at_first ts_booking_at dim_contact_channel  \\\n",
       "0           15:23.0                  NaN           NaN          contact_me   \n",
       "1           38:31.0                  NaN           NaN          contact_me   \n",
       "2           06:10.0              06:10.0           NaN          contact_me   \n",
       "3           49:08.0                  NaN           NaN          contact_me   \n",
       "4           56:39.0              56:39.0           NaN          contact_me   \n",
       "\n",
       "   m_first_message_length                               id_user         ab  \n",
       "0                   230.0  f966752c-8533-48b2-af6f-8c6797d2b247  treatment  \n",
       "1                    98.0  873f93fb-234c-4cfb-83c7-27ff0e582a8e  treatment  \n",
       "2                   278.0  7308791e-04c3-416a-be2d-4188816decc2    control  \n",
       "3                   785.0  097c48a4-f4b6-4870-bf29-370e33de868e    control  \n",
       "4                    69.0  6ff7a902-541b-4eee-ace4-673262b95a94    control  "
      ]
     },
     "execution_count": 34,
     "metadata": {},
     "output_type": "execute_result"
    }
   ],
   "source": [
    "ab = (pd.merge(left = contacts,\n",
    "              right = users,\n",
    "              left_on = ['id_guest'],\n",
    "              right_on = ['id_user'],\n",
    "              how = 'inner'\n",
    "              )\n",
    "     )\n",
    "ab.head()"
   ]
  },
  {
   "cell_type": "code",
   "execution_count": 3,
   "metadata": {
    "collapsed": true
   },
   "outputs": [],
   "source": [
    "abc = ab[ab.dim_contact_channel== 'contact_me']\n",
    "AB = abc.drop(['id_guest','id_listing','id_host','ts_booking_at','dim_contact_channel','id_user'],axis = 1)"
   ]
  },
  {
   "cell_type": "code",
   "execution_count": 4,
   "metadata": {},
   "outputs": [
    {
     "data": {
      "text/html": [
       "<div>\n",
       "<style>\n",
       "    .dataframe thead tr:only-child th {\n",
       "        text-align: right;\n",
       "    }\n",
       "\n",
       "    .dataframe thead th {\n",
       "        text-align: left;\n",
       "    }\n",
       "\n",
       "    .dataframe tbody tr th {\n",
       "        vertical-align: top;\n",
       "    }\n",
       "</style>\n",
       "<table border=\"1\" class=\"dataframe\">\n",
       "  <thead>\n",
       "    <tr style=\"text-align: right;\">\n",
       "      <th></th>\n",
       "      <th>ts_interaction_first</th>\n",
       "      <th>ts_reply_at_first</th>\n",
       "      <th>ts_accepted_at_first</th>\n",
       "      <th>m_first_message_length</th>\n",
       "      <th>ab</th>\n",
       "    </tr>\n",
       "  </thead>\n",
       "  <tbody>\n",
       "    <tr>\n",
       "      <th>0</th>\n",
       "      <td>1/1/13 23:04</td>\n",
       "      <td>15:23.0</td>\n",
       "      <td>NaN</td>\n",
       "      <td>230.0</td>\n",
       "      <td>treatment</td>\n",
       "    </tr>\n",
       "    <tr>\n",
       "      <th>1</th>\n",
       "      <td>1/2/13 0:21</td>\n",
       "      <td>38:31.0</td>\n",
       "      <td>NaN</td>\n",
       "      <td>98.0</td>\n",
       "      <td>treatment</td>\n",
       "    </tr>\n",
       "    <tr>\n",
       "      <th>2</th>\n",
       "      <td>1/2/13 2:30</td>\n",
       "      <td>06:10.0</td>\n",
       "      <td>06:10.0</td>\n",
       "      <td>278.0</td>\n",
       "      <td>control</td>\n",
       "    </tr>\n",
       "    <tr>\n",
       "      <th>3</th>\n",
       "      <td>1/2/13 3:24</td>\n",
       "      <td>49:08.0</td>\n",
       "      <td>NaN</td>\n",
       "      <td>785.0</td>\n",
       "      <td>control</td>\n",
       "    </tr>\n",
       "    <tr>\n",
       "      <th>4</th>\n",
       "      <td>1/2/13 7:11</td>\n",
       "      <td>56:39.0</td>\n",
       "      <td>56:39.0</td>\n",
       "      <td>69.0</td>\n",
       "      <td>control</td>\n",
       "    </tr>\n",
       "  </tbody>\n",
       "</table>\n",
       "</div>"
      ],
      "text/plain": [
       "  ts_interaction_first ts_reply_at_first ts_accepted_at_first  \\\n",
       "0         1/1/13 23:04           15:23.0                  NaN   \n",
       "1          1/2/13 0:21           38:31.0                  NaN   \n",
       "2          1/2/13 2:30           06:10.0              06:10.0   \n",
       "3          1/2/13 3:24           49:08.0                  NaN   \n",
       "4          1/2/13 7:11           56:39.0              56:39.0   \n",
       "\n",
       "   m_first_message_length         ab  \n",
       "0                   230.0  treatment  \n",
       "1                    98.0  treatment  \n",
       "2                   278.0    control  \n",
       "3                   785.0    control  \n",
       "4                    69.0    control  "
      ]
     },
     "execution_count": 4,
     "metadata": {},
     "output_type": "execute_result"
    }
   ],
   "source": [
    "AB.head()"
   ]
  },
  {
   "cell_type": "code",
   "execution_count": 5,
   "metadata": {},
   "outputs": [
    {
     "data": {
      "text/plain": [
       "ts_interaction_first      4482\n",
       "ts_reply_at_first         3788\n",
       "ts_accepted_at_first      1225\n",
       "m_first_message_length    4482\n",
       "ab                        4482\n",
       "dtype: int64"
      ]
     },
     "execution_count": 5,
     "metadata": {},
     "output_type": "execute_result"
    }
   ],
   "source": [
    "AB[AB.ab=='treatment'].count()"
   ]
  },
  {
   "cell_type": "code",
   "execution_count": 6,
   "metadata": {},
   "outputs": [
    {
     "data": {
      "text/plain": [
       "ts_interaction_first      4488\n",
       "ts_reply_at_first         3760\n",
       "ts_accepted_at_first      1242\n",
       "m_first_message_length    4488\n",
       "ab                        4488\n",
       "dtype: int64"
      ]
     },
     "execution_count": 6,
     "metadata": {},
     "output_type": "execute_result"
    }
   ],
   "source": [
    "AB[AB.ab=='control'].count()"
   ]
  },
  {
   "cell_type": "code",
   "execution_count": 7,
   "metadata": {
    "collapsed": true
   },
   "outputs": [],
   "source": [
    "DF = AB.fillna('00:00.0')"
   ]
  },
  {
   "cell_type": "code",
   "execution_count": 8,
   "metadata": {
    "collapsed": true
   },
   "outputs": [],
   "source": [
    "xyz = lambda x: int(x[0:2])*60+int(x[3:5])"
   ]
  },
  {
   "cell_type": "code",
   "execution_count": 9,
   "metadata": {},
   "outputs": [],
   "source": [
    "DF['accepted'] = DF.ts_accepted_at_first.apply(xyz).apply(bool).apply(int).apply(float)"
   ]
  },
  {
   "cell_type": "code",
   "execution_count": 10,
   "metadata": {
    "collapsed": true
   },
   "outputs": [],
   "source": [
    "DF['replied'] = DF.ts_reply_at_first.apply(xyz).apply(bool).apply(int).apply(float)"
   ]
  },
  {
   "cell_type": "code",
   "execution_count": 11,
   "metadata": {},
   "outputs": [],
   "source": [
    "DF['mes_len'] = DF.m_first_message_length>=140"
   ]
  },
  {
   "cell_type": "code",
   "execution_count": 12,
   "metadata": {
    "collapsed": true
   },
   "outputs": [],
   "source": [
    "DF['mes_len'] =DF['mes_len'].apply(int).apply(float)"
   ]
  },
  {
   "cell_type": "code",
   "execution_count": 13,
   "metadata": {},
   "outputs": [
    {
     "data": {
      "text/html": [
       "<div>\n",
       "<style>\n",
       "    .dataframe thead tr:only-child th {\n",
       "        text-align: right;\n",
       "    }\n",
       "\n",
       "    .dataframe thead th {\n",
       "        text-align: left;\n",
       "    }\n",
       "\n",
       "    .dataframe tbody tr th {\n",
       "        vertical-align: top;\n",
       "    }\n",
       "</style>\n",
       "<table border=\"1\" class=\"dataframe\">\n",
       "  <thead>\n",
       "    <tr style=\"text-align: right;\">\n",
       "      <th></th>\n",
       "      <th>ts_interaction_first</th>\n",
       "      <th>ts_reply_at_first</th>\n",
       "      <th>ts_accepted_at_first</th>\n",
       "      <th>m_first_message_length</th>\n",
       "      <th>ab</th>\n",
       "      <th>accepted</th>\n",
       "      <th>replied</th>\n",
       "      <th>mes_len</th>\n",
       "    </tr>\n",
       "  </thead>\n",
       "  <tbody>\n",
       "    <tr>\n",
       "      <th>0</th>\n",
       "      <td>1/1/13 23:04</td>\n",
       "      <td>15:23.0</td>\n",
       "      <td>00:00.0</td>\n",
       "      <td>230.0</td>\n",
       "      <td>treatment</td>\n",
       "      <td>0.0</td>\n",
       "      <td>1.0</td>\n",
       "      <td>1.0</td>\n",
       "    </tr>\n",
       "    <tr>\n",
       "      <th>1</th>\n",
       "      <td>1/2/13 0:21</td>\n",
       "      <td>38:31.0</td>\n",
       "      <td>00:00.0</td>\n",
       "      <td>98.0</td>\n",
       "      <td>treatment</td>\n",
       "      <td>0.0</td>\n",
       "      <td>1.0</td>\n",
       "      <td>0.0</td>\n",
       "    </tr>\n",
       "    <tr>\n",
       "      <th>2</th>\n",
       "      <td>1/2/13 2:30</td>\n",
       "      <td>06:10.0</td>\n",
       "      <td>06:10.0</td>\n",
       "      <td>278.0</td>\n",
       "      <td>control</td>\n",
       "      <td>1.0</td>\n",
       "      <td>1.0</td>\n",
       "      <td>1.0</td>\n",
       "    </tr>\n",
       "    <tr>\n",
       "      <th>3</th>\n",
       "      <td>1/2/13 3:24</td>\n",
       "      <td>49:08.0</td>\n",
       "      <td>00:00.0</td>\n",
       "      <td>785.0</td>\n",
       "      <td>control</td>\n",
       "      <td>0.0</td>\n",
       "      <td>1.0</td>\n",
       "      <td>1.0</td>\n",
       "    </tr>\n",
       "    <tr>\n",
       "      <th>4</th>\n",
       "      <td>1/2/13 7:11</td>\n",
       "      <td>56:39.0</td>\n",
       "      <td>56:39.0</td>\n",
       "      <td>69.0</td>\n",
       "      <td>control</td>\n",
       "      <td>1.0</td>\n",
       "      <td>1.0</td>\n",
       "      <td>0.0</td>\n",
       "    </tr>\n",
       "  </tbody>\n",
       "</table>\n",
       "</div>"
      ],
      "text/plain": [
       "  ts_interaction_first ts_reply_at_first ts_accepted_at_first  \\\n",
       "0         1/1/13 23:04           15:23.0              00:00.0   \n",
       "1          1/2/13 0:21           38:31.0              00:00.0   \n",
       "2          1/2/13 2:30           06:10.0              06:10.0   \n",
       "3          1/2/13 3:24           49:08.0              00:00.0   \n",
       "4          1/2/13 7:11           56:39.0              56:39.0   \n",
       "\n",
       "   m_first_message_length         ab  accepted  replied  mes_len  \n",
       "0                   230.0  treatment       0.0      1.0      1.0  \n",
       "1                    98.0  treatment       0.0      1.0      0.0  \n",
       "2                   278.0    control       1.0      1.0      1.0  \n",
       "3                   785.0    control       0.0      1.0      1.0  \n",
       "4                    69.0    control       1.0      1.0      0.0  "
      ]
     },
     "execution_count": 13,
     "metadata": {},
     "output_type": "execute_result"
    }
   ],
   "source": [
    "DF.head()"
   ]
  },
  {
   "cell_type": "code",
   "execution_count": 14,
   "metadata": {},
   "outputs": [
    {
     "name": "stdout",
     "output_type": "stream",
     "text": [
      "ab         accepted\n",
      "control    0.0         0.723930\n",
      "           1.0         0.276070\n",
      "treatment  0.0         0.727354\n",
      "           1.0         0.272646\n",
      "Name: accepted, dtype: float64\n",
      "ab         accepted\n",
      "control    0.0         3249\n",
      "           1.0         1239\n",
      "treatment  0.0         3260\n",
      "           1.0         1222\n",
      "Name: accepted, dtype: int64\n"
     ]
    }
   ],
   "source": [
    "GPDF = DF.groupby(['ab'])\n",
    "print GPDF['accepted'].value_counts(2)\n",
    "print GPDF['accepted'].value_counts()"
   ]
  },
  {
   "cell_type": "code",
   "execution_count": 15,
   "metadata": {},
   "outputs": [
    {
     "name": "stdout",
     "output_type": "stream",
     "text": [
      "Chi-square test of contingency table: replied Vs treatment group\n",
      "replied         0.0       1.0\n",
      "ab                           \n",
      "control    0.162210  0.837790\n",
      "treatment  0.155065  0.844935\n",
      "\n",
      "\n",
      "replied    0.0   1.0\n",
      "ab                  \n",
      "control    728  3760\n",
      "treatment  695  3787\n",
      "\n",
      "\n",
      "(0.80516546290722868, 0.36955345446577093, 1, array([[  711.97591973,  3776.02408027],\n",
      "       [  711.02408027,  3770.97591973]]))\n",
      "\n",
      "\n",
      "\n",
      "\n",
      "Chi-square test of contingency table: accepted Vs treatment group\n",
      "accepted        0.0       1.0\n",
      "ab                           \n",
      "control    0.723930  0.276070\n",
      "treatment  0.727354  0.272646\n",
      "\n",
      "\n",
      "accepted    0.0   1.0\n",
      "ab                   \n",
      "control    3249  1239\n",
      "treatment  3260  1222\n",
      "\n",
      "\n",
      "(0.11537277173502974, 0.73410831274020194, 1, array([[ 3256.67692308,  1231.32307692],\n",
      "       [ 3252.32307692,  1229.67692308]]))\n",
      "\n",
      "\n",
      "\n",
      "\n"
     ]
    }
   ],
   "source": [
    "binary_outcome=['replied','accepted']\n",
    "for i in binary_outcome:\n",
    "    print \"Chi-square test of contingency table: \" + i + \" Vs treatment group\"\n",
    "    print GPDF[i].value_counts(2).unstack().fillna(0)\n",
    "    print \"\\n\"\n",
    "    print GPDF[i].value_counts().unstack().fillna(0)\n",
    "    print \"\\n\"\n",
    "    print stats.chi2_contingency(GPDF[i].value_counts().unstack())\n",
    "    print \"\\n\"\n",
    "    print \"\\n\""
   ]
  },
  {
   "cell_type": "code",
   "execution_count": 16,
   "metadata": {},
   "outputs": [
    {
     "data": {
      "text/plain": [
       "<matplotlib.legend.Legend at 0x10dc8aed0>"
      ]
     },
     "execution_count": 16,
     "metadata": {},
     "output_type": "execute_result"
    },
    {
     "data": {
      "image/png": "[encoded data removed]",
      "text/plain": [
       "<matplotlib.figure.Figure at 0x10dc8ab50>"
      ]
     },
     "metadata": {},
     "output_type": "display_data"
    }
   ],
   "source": [
    "GPDF['replied'].value_counts(2).unstack().plot(kind=\"bar\",color=['lightcoral','yellow'],rot='horizontal',\\\n",
    "                                    title='replied rate by experiment group')\n",
    "plt.legend(bbox_to_anchor=(1.05, 1), loc=2, borderaxespad=0)"
   ]
  },
  {
   "cell_type": "code",
   "execution_count": 17,
   "metadata": {},
   "outputs": [
    {
     "data": {
      "text/plain": [
       "<matplotlib.legend.Legend at 0x10d110150>"
      ]
     },
     "execution_count": 17,
     "metadata": {},
     "output_type": "execute_result"
    },
    {
     "data": {
      "image/png": "[encoded data removed]",
      "text/plain": [
       "<matplotlib.figure.Figure at 0x10d14f2d0>"
      ]
     },
     "metadata": {},
     "output_type": "display_data"
    }
   ],
   "source": [
    "GPDF['accepted'].value_counts(2).unstack().plot(kind=\"bar\",color=['lightcoral','yellow'],rot='horizontal',\\\n",
    "                                    title='accepted rate by experiment group')\n",
    "plt.legend(bbox_to_anchor=(1.05, 1), loc=2, borderaxespad=0)"
   ]
  },
  {
   "cell_type": "markdown",
   "metadata": {},
   "source": [
    "# According to chi2 test and the plots, there is no obvious different replied rate or accepted rate between control and treatment group."
   ]
  },
  {
   "cell_type": "code",
   "execution_count": 18,
   "metadata": {},
   "outputs": [
    {
     "name": "stdout",
     "output_type": "stream",
     "text": [
      "ttest_ind:            t = 1.432  p = 0.15218\n",
      "ttest_ind:            t = -0.363293  p = 0.716395\n",
      "ttest_ind:            t = -0.183783  p = 0.854206\n",
      "ttest_ind:            t = 0.84074  p = 0.400611\n"
     ]
    }
   ],
   "source": [
    "from scipy.stats import ttest_ind, ttest_ind_from_stats\n",
    "from scipy.special import stdtr\n",
    "# check if the requirement meaningful.\n",
    "a = DF.mes_len[DF.ab == 'treatment']\n",
    "b = DF.mes_len[DF.ab == 'control']\n",
    "t, p = ttest_ind(a, b, equal_var=False)\n",
    "print(\"ttest_ind:            t = %g  p = %g\" % (t, p))\n",
    "#check if the treated group has better result\n",
    "a = DF.accepted[DF.ab == 'treatment']\n",
    "b = DF.accepted[DF.ab == 'control']\n",
    "t, p = ttest_ind(a, b, equal_var=False)\n",
    "print(\"ttest_ind:            t = %g  p = %g\" % (t, p))\n",
    "#check if message longer than 140 words results better replied rate.\n",
    "a = DF.replied[DF.mes_len == 1]\n",
    "b = DF.replied[DF.mes_len == 0]\n",
    "t, p = ttest_ind(a, b, equal_var=False)\n",
    "print(\"ttest_ind:            t = %g  p = %g\" % (t, p))\n",
    "#check if message longer than 140 words results better accepted rate.\n",
    "a = DF.accepted[DF.mes_len == 1]\n",
    "b = DF.accepted[DF.mes_len == 0]\n",
    "t, p = ttest_ind(a, b, equal_var=False)\n",
    "print(\"ttest_ind:            t = %g  p = %g\" % (t, p))"
   ]
  },
  {
   "cell_type": "markdown",
   "metadata": {},
   "source": [
    "## None of the results are significant."
   ]
  },
  {
   "cell_type": "markdown",
   "metadata": {},
   "source": [
    "### The accepted rate and replied rate are not largely influenced by the experiment. So we don't need to stop the experiment but it should be modified."
   ]
  },
  {
   "cell_type": "code",
   "execution_count": 19,
   "metadata": {
    "collapsed": true
   },
   "outputs": [],
   "source": [
    "DF['rep_time'] = DF.ts_reply_at_first.apply(xyz)\n",
    "DF['acc_time'] = DF.ts_accepted_at_first.apply(xyz)"
   ]
  },
  {
   "cell_type": "code",
   "execution_count": 20,
   "metadata": {},
   "outputs": [
    {
     "data": {
      "text/html": [
       "<div>\n",
       "<style>\n",
       "    .dataframe thead tr:only-child th {\n",
       "        text-align: right;\n",
       "    }\n",
       "\n",
       "    .dataframe thead th {\n",
       "        text-align: left;\n",
       "    }\n",
       "\n",
       "    .dataframe tbody tr th {\n",
       "        vertical-align: top;\n",
       "    }\n",
       "</style>\n",
       "<table border=\"1\" class=\"dataframe\">\n",
       "  <thead>\n",
       "    <tr style=\"text-align: right;\">\n",
       "      <th></th>\n",
       "      <th>ts_interaction_first</th>\n",
       "      <th>ts_reply_at_first</th>\n",
       "      <th>ts_accepted_at_first</th>\n",
       "      <th>m_first_message_length</th>\n",
       "      <th>ab</th>\n",
       "      <th>accepted</th>\n",
       "      <th>replied</th>\n",
       "      <th>mes_len</th>\n",
       "      <th>rep_time</th>\n",
       "      <th>acc_time</th>\n",
       "    </tr>\n",
       "  </thead>\n",
       "  <tbody>\n",
       "    <tr>\n",
       "      <th>0</th>\n",
       "      <td>1/1/13 23:04</td>\n",
       "      <td>15:23.0</td>\n",
       "      <td>00:00.0</td>\n",
       "      <td>230.0</td>\n",
       "      <td>treatment</td>\n",
       "      <td>0.0</td>\n",
       "      <td>1.0</td>\n",
       "      <td>1.0</td>\n",
       "      <td>923</td>\n",
       "      <td>0</td>\n",
       "    </tr>\n",
       "    <tr>\n",
       "      <th>1</th>\n",
       "      <td>1/2/13 0:21</td>\n",
       "      <td>38:31.0</td>\n",
       "      <td>00:00.0</td>\n",
       "      <td>98.0</td>\n",
       "      <td>treatment</td>\n",
       "      <td>0.0</td>\n",
       "      <td>1.0</td>\n",
       "      <td>0.0</td>\n",
       "      <td>2311</td>\n",
       "      <td>0</td>\n",
       "    </tr>\n",
       "    <tr>\n",
       "      <th>2</th>\n",
       "      <td>1/2/13 2:30</td>\n",
       "      <td>06:10.0</td>\n",
       "      <td>06:10.0</td>\n",
       "      <td>278.0</td>\n",
       "      <td>control</td>\n",
       "      <td>1.0</td>\n",
       "      <td>1.0</td>\n",
       "      <td>1.0</td>\n",
       "      <td>370</td>\n",
       "      <td>370</td>\n",
       "    </tr>\n",
       "    <tr>\n",
       "      <th>3</th>\n",
       "      <td>1/2/13 3:24</td>\n",
       "      <td>49:08.0</td>\n",
       "      <td>00:00.0</td>\n",
       "      <td>785.0</td>\n",
       "      <td>control</td>\n",
       "      <td>0.0</td>\n",
       "      <td>1.0</td>\n",
       "      <td>1.0</td>\n",
       "      <td>2948</td>\n",
       "      <td>0</td>\n",
       "    </tr>\n",
       "    <tr>\n",
       "      <th>4</th>\n",
       "      <td>1/2/13 7:11</td>\n",
       "      <td>56:39.0</td>\n",
       "      <td>56:39.0</td>\n",
       "      <td>69.0</td>\n",
       "      <td>control</td>\n",
       "      <td>1.0</td>\n",
       "      <td>1.0</td>\n",
       "      <td>0.0</td>\n",
       "      <td>3399</td>\n",
       "      <td>3399</td>\n",
       "    </tr>\n",
       "  </tbody>\n",
       "</table>\n",
       "</div>"
      ],
      "text/plain": [
       "  ts_interaction_first ts_reply_at_first ts_accepted_at_first  \\\n",
       "0         1/1/13 23:04           15:23.0              00:00.0   \n",
       "1          1/2/13 0:21           38:31.0              00:00.0   \n",
       "2          1/2/13 2:30           06:10.0              06:10.0   \n",
       "3          1/2/13 3:24           49:08.0              00:00.0   \n",
       "4          1/2/13 7:11           56:39.0              56:39.0   \n",
       "\n",
       "   m_first_message_length         ab  accepted  replied  mes_len  rep_time  \\\n",
       "0                   230.0  treatment       0.0      1.0      1.0       923   \n",
       "1                    98.0  treatment       0.0      1.0      0.0      2311   \n",
       "2                   278.0    control       1.0      1.0      1.0       370   \n",
       "3                   785.0    control       0.0      1.0      1.0      2948   \n",
       "4                    69.0    control       1.0      1.0      0.0      3399   \n",
       "\n",
       "   acc_time  \n",
       "0         0  \n",
       "1         0  \n",
       "2       370  \n",
       "3         0  \n",
       "4      3399  "
      ]
     },
     "execution_count": 20,
     "metadata": {},
     "output_type": "execute_result"
    }
   ],
   "source": [
    "DF.head()"
   ]
  },
  {
   "cell_type": "code",
   "execution_count": 21,
   "metadata": {},
   "outputs": [],
   "source": [
    "meslen_group = range(int(max(DF.m_first_message_length)/10))\n",
    "meanofrep = [np.mean(DF.rep_time[DF.m_first_message_length>10*i-10][DF.m_first_message_length<=10*i][DF.rep_time!=0]) for i in meslen_group]\n",
    "meanofacc = [np.mean(DF.acc_time[DF.m_first_message_length>10*i-10][DF.m_first_message_length<=10*i][DF.acc_time!=0]) for i in meslen_group]"
   ]
  },
  {
   "cell_type": "code",
   "execution_count": 22,
   "metadata": {},
   "outputs": [
    {
     "data": {
      "text/plain": [
       "<matplotlib.text.Text at 0x110e9fcd0>"
      ]
     },
     "execution_count": 22,
     "metadata": {},
     "output_type": "execute_result"
    },
    {
     "data": {
      "image/png": "[encoded data removed]",
      "text/plain": [
       "<matplotlib.figure.Figure at 0x110ed38d0>"
      ]
     },
     "metadata": {},
     "output_type": "display_data"
    }
   ],
   "source": [
    "plt.bar(meslen_group,meanofrep)\n",
    "ax = plt.axes()\n",
    "ax.set_xlabel('mes_len/10')\n",
    "ax.set_ylabel('rep_time')"
   ]
  },
  {
   "cell_type": "code",
   "execution_count": 23,
   "metadata": {},
   "outputs": [
    {
     "data": {
      "text/plain": [
       "<matplotlib.text.Text at 0x1112eee10>"
      ]
     },
     "execution_count": 23,
     "metadata": {},
     "output_type": "execute_result"
    },
    {
     "data": {
      "image/png": "[encoded data removed]",
      "text/plain": [
       "<matplotlib.figure.Figure at 0x110dc4a90>"
      ]
     },
     "metadata": {},
     "output_type": "display_data"
    }
   ],
   "source": [
    "plt.bar(meslen_group,meanofacc)\n",
    "ax = plt.axes()\n",
    "ax.set_xlabel('mes_len/10')\n",
    "ax.set_ylabel('acc_time')"
   ]
  },
  {
   "cell_type": "markdown",
   "metadata": {},
   "source": [
    "# check the relationship between mes_len and acc_rate."
   ]
  },
  {
   "cell_type": "code",
   "execution_count": 33,
   "metadata": {},
   "outputs": [
    {
     "data": {
      "text/plain": [
       "<matplotlib.text.Text at 0x1135b1350>"
      ]
     },
     "execution_count": 33,
     "metadata": {},
     "output_type": "execute_result"
    },
    {
     "data": {
      "image/png": "[encoded data removed]",
      "text/plain": [
       "<matplotlib.figure.Figure at 0x11343f950>"
      ]
     },
     "metadata": {},
     "output_type": "display_data"
    }
   ],
   "source": [
    "x = meslen_group\n",
    "y = [np.mean(DF.accepted[DF.m_first_message_length<40*i][DF.m_first_message_length>(40*i-40)]) for i in x]\n",
    "plt.scatter(x,y)\n",
    "ax = plt.axes()\n",
    "ax.set_xlabel('mes_len/40')\n",
    "ax.set_ylabel('acc_rate')"
   ]
  },
  {
   "cell_type": "markdown",
   "metadata": {},
   "source": [
    "# According to above 3 plots, there is no obvious linear relationship between mes_len and rep_time, mes_len and acc_time, mes_len and acc_rate."
   ]
  },
  {
   "cell_type": "markdown",
   "metadata": {},
   "source": [
    "## use different required number of words to adjust experiment."
   ]
  },
  {
   "cell_type": "code",
   "execution_count": 25,
   "metadata": {},
   "outputs": [
    {
     "name": "stderr",
     "output_type": "stream",
     "text": [
      "/anaconda/lib/python2.7/site-packages/numpy/core/fromnumeric.py:3126: RuntimeWarning: Degrees of freedom <= 0 for slice\n",
      "  **kwargs)\n",
      "/anaconda/lib/python2.7/site-packages/numpy/core/_methods.py:127: RuntimeWarning: invalid value encountered in double_scalars\n",
      "  ret = ret.dtype.type(ret / rcount)\n"
     ]
    },
    {
     "name": "stdout",
     "output_type": "stream",
     "text": [
      "requirement: 10*0. ttest_ind:     t = nan  p = nan\n",
      "requirement: 10*1. ttest_ind:     t = 0.148907  p = 0.885819\n",
      "requirement: 10*2. ttest_ind:     t = 0.186704  p = 0.855283\n",
      "requirement: 10*3. ttest_ind:     t = -0.412332  p = 0.683218\n",
      "requirement: 10*4. ttest_ind:     t = -0.554142  p = 0.581744\n",
      "requirement: 10*5. ttest_ind:     t = -0.630229  p = 0.530226\n",
      "requirement: 10*6. ttest_ind:     t = -0.737385  p = 0.461967\n",
      "requirement: 10*7. ttest_ind:     t = -0.371365  p = 0.710653\n",
      "requirement: 10*8. ttest_ind:     t = -0.871687  p = 0.383902\n",
      "requirement: 10*9. ttest_ind:     t = -0.225925  p = 0.821343\n",
      "requirement: 10*10. ttest_ind:     t = -0.0178891  p = 0.985732\n",
      "requirement: 10*11. ttest_ind:     t = -0.236488  p = 0.813106\n",
      "requirement: 10*12. ttest_ind:     t = 0.636415  p = 0.52463\n",
      "requirement: 10*13. ttest_ind:     t = 0.956433  p = 0.339017\n",
      "requirement: 10*14. ttest_ind:     t = 0.811038  p = 0.417454\n",
      "requirement: 10*15. ttest_ind:     t = 0.526701  p = 0.598456\n",
      "requirement: 10*16. ttest_ind:     t = 0.778525  p = 0.436333\n",
      "requirement: 10*17. ttest_ind:     t = 1.41442  p = 0.157343\n",
      "requirement: 10*18. ttest_ind:     t = 0.73296  p = 0.463631\n",
      "requirement: 10*19. ttest_ind:     t = 0.272064  p = 0.785586\n",
      "requirement: 10*20. ttest_ind:     t = 0.530612  p = 0.595712\n",
      "requirement: 10*21. ttest_ind:     t = 0.630639  p = 0.528302\n",
      "requirement: 10*22. ttest_ind:     t = 1.01973  p = 0.307898\n",
      "requirement: 10*23. ttest_ind:     t = 1.50668  p = 0.131938\n",
      "requirement: 10*24. ttest_ind:     t = 2.0377  p = 0.0416142\n",
      "requirement: 10*25. ttest_ind:     t = 1.34309  p = 0.179281\n",
      "requirement: 10*26. ttest_ind:     t = 1.58513  p = 0.112974\n",
      "requirement: 10*27. ttest_ind:     t = 2.21131  p = 0.0270396\n",
      "requirement: 10*28. ttest_ind:     t = 2.09452  p = 0.0362421\n",
      "requirement: 10*29. ttest_ind:     t = 2.56914  p = 0.0102111\n",
      "requirement: 10*30. ttest_ind:     t = 2.06834  p = 0.0386377\n",
      "requirement: 10*31. ttest_ind:     t = 2.17451  p = 0.0296945\n",
      "requirement: 10*32. ttest_ind:     t = 2.24407  p = 0.0248549\n",
      "requirement: 10*33. ttest_ind:     t = 1.81413  p = 0.0696969\n",
      "requirement: 10*34. ttest_ind:     t = 1.66397  p = 0.0961611\n",
      "requirement: 10*35. ttest_ind:     t = 1.68774  p = 0.0915066\n",
      "requirement: 10*36. ttest_ind:     t = 1.60341  p = 0.108893\n",
      "requirement: 10*37. ttest_ind:     t = 1.54397  p = 0.122648\n",
      "requirement: 10*38. ttest_ind:     t = 1.58198  p = 0.11371\n",
      "requirement: 10*39. ttest_ind:     t = 1.5608  p = 0.118632\n",
      "requirement: 10*40. ttest_ind:     t = 1.39058  p = 0.164418\n",
      "requirement: 10*41. ttest_ind:     t = 1.69406  p = 0.0903245\n",
      "requirement: 10*42. ttest_ind:     t = 1.55976  p = 0.118892\n",
      "requirement: 10*43. ttest_ind:     t = 1.35469  p = 0.175594\n",
      "requirement: 10*44. ttest_ind:     t = 1.42829  p = 0.153294\n",
      "requirement: 10*45. ttest_ind:     t = 1.16512  p = 0.244052\n",
      "requirement: 10*46. ttest_ind:     t = 0.87148  p = 0.383559\n",
      "requirement: 10*47. ttest_ind:     t = 0.521286  p = 0.602207\n",
      "requirement: 10*48. ttest_ind:     t = 0.402767  p = 0.687152\n",
      "requirement: 10*49. ttest_ind:     t = 0.554219  p = 0.579479\n",
      "requirement: 10*50. ttest_ind:     t = 0.833126  p = 0.404859\n",
      "requirement: 10*51. ttest_ind:     t = 0.929198  p = 0.35289\n",
      "requirement: 10*52. ttest_ind:     t = 0.727426  p = 0.467049\n",
      "requirement: 10*53. ttest_ind:     t = 0.640375  p = 0.522006\n",
      "requirement: 10*54. ttest_ind:     t = 0.707846  p = 0.479133\n",
      "requirement: 10*55. ttest_ind:     t = 0.632813  p = 0.526943\n",
      "requirement: 10*56. ttest_ind:     t = 0.948399  p = 0.343074\n",
      "requirement: 10*57. ttest_ind:     t = 0.861335  p = 0.389196\n",
      "requirement: 10*58. ttest_ind:     t = 0.866076  p = 0.386601\n",
      "requirement: 10*59. ttest_ind:     t = 0.353932  p = 0.723447\n",
      "requirement: 10*60. ttest_ind:     t = 0.308867  p = 0.757474\n",
      "requirement: 10*61. ttest_ind:     t = 0.696353  p = 0.486347\n",
      "requirement: 10*62. ttest_ind:     t = 0.68987  p = 0.490419\n",
      "requirement: 10*63. ttest_ind:     t = 0.574983  p = 0.565426\n",
      "requirement: 10*64. ttest_ind:     t = 0.414783  p = 0.67839\n",
      "requirement: 10*65. ttest_ind:     t = 0.261965  p = 0.793405\n",
      "requirement: 10*66. ttest_ind:     t = 0.0710899  p = 0.943342\n",
      "requirement: 10*67. ttest_ind:     t = -0.151002  p = 0.880009\n",
      "requirement: 10*68. ttest_ind:     t = -0.165387  p = 0.86868\n",
      "requirement: 10*69. ttest_ind:     t = -0.106267  p = 0.915398\n",
      "requirement: 10*70. ttest_ind:     t = -0.179906  p = 0.857276\n",
      "requirement: 10*71. ttest_ind:     t = -0.300692  p = 0.76374\n",
      "requirement: 10*72. ttest_ind:     t = -0.497812  p = 0.618782\n",
      "requirement: 10*73. ttest_ind:     t = -0.549537  p = 0.582831\n",
      "requirement: 10*74. ttest_ind:     t = -0.482093  p = 0.629914\n",
      "requirement: 10*75. ttest_ind:     t = -0.524381  p = 0.600213\n",
      "requirement: 10*76. ttest_ind:     t = -0.499708  p = 0.617474\n",
      "requirement: 10*77. ttest_ind:     t = -0.873805  p = 0.382617\n",
      "requirement: 10*78. ttest_ind:     t = -0.837974  p = 0.402438\n",
      "requirement: 10*79. ttest_ind:     t = -0.861758  p = 0.389244\n",
      "requirement: 10*80. ttest_ind:     t = -0.700958  p = 0.483685\n",
      "requirement: 10*81. ttest_ind:     t = -0.699522  p = 0.484612\n",
      "requirement: 10*82. ttest_ind:     t = -0.40852  p = 0.683105\n",
      "requirement: 10*83. ttest_ind:     t = -0.507068  p = 0.612399\n",
      "requirement: 10*84. ttest_ind:     t = -0.376428  p = 0.706817\n",
      "requirement: 10*85. ttest_ind:     t = -0.102156  p = 0.918691\n",
      "requirement: 10*86. ttest_ind:     t = 0.0960751  p = 0.923517\n",
      "requirement: 10*87. ttest_ind:     t = -0.112921  p = 0.910161\n",
      "requirement: 10*88. ttest_ind:     t = 0.185083  p = 0.853281\n",
      "requirement: 10*89. ttest_ind:     t = -0.00206182  p = 0.998356\n",
      "requirement: 10*90. ttest_ind:     t = -0.289625  p = 0.772313\n",
      "requirement: 10*91. ttest_ind:     t = -0.910642  p = 0.363293\n",
      "requirement: 10*92. ttest_ind:     t = -1.1649  p = 0.245122\n",
      "requirement: 10*93. ttest_ind:     t = -1.03718  p = 0.30064\n",
      "requirement: 10*94. ttest_ind:     t = -0.899649  p = 0.369206\n",
      "requirement: 10*95. ttest_ind:     t = -1.01186  p = 0.312643\n",
      "requirement: 10*96. ttest_ind:     t = -0.791469  p = 0.429503\n",
      "requirement: 10*97. ttest_ind:     t = -0.783101  p = 0.434407\n",
      "requirement: 10*98. ttest_ind:     t = -1.15142  p = 0.25085\n",
      "requirement: 10*99. ttest_ind:     t = -1.18295  p = 0.238224\n",
      "requirement: 10*100. ttest_ind:     t = -1.31197  p = 0.191101\n",
      "requirement: 10*101. ttest_ind:     t = -1.35532  p = 0.176976\n",
      "requirement: 10*102. ttest_ind:     t = -1.06576  p = 0.28798\n",
      "requirement: 10*103. ttest_ind:     t = -0.913248  p = 0.362409\n",
      "requirement: 10*104. ttest_ind:     t = -0.906486  p = 0.365998\n",
      "requirement: 10*105. ttest_ind:     t = -0.798475  p = 0.425788\n",
      "requirement: 10*106. ttest_ind:     t = -0.834192  p = 0.405489\n",
      "requirement: 10*107. ttest_ind:     t = -0.879275  p = 0.380677\n",
      "requirement: 10*108. ttest_ind:     t = -0.865601  p = 0.388195\n",
      "requirement: 10*109. ttest_ind:     t = -0.913588  p = 0.362546\n",
      "requirement: 10*110. ttest_ind:     t = -1.07393  p = 0.284764\n",
      "requirement: 10*111. ttest_ind:     t = -1.01439  p = 0.312279\n",
      "requirement: 10*112. ttest_ind:     t = -1.01439  p = 0.312279\n",
      "requirement: 10*113. ttest_ind:     t = -0.780644  p = 0.436531\n",
      "requirement: 10*114. ttest_ind:     t = -0.655244  p = 0.513619\n",
      "requirement: 10*115. ttest_ind:     t = -0.537037  p = 0.592299\n",
      "requirement: 10*116. ttest_ind:     t = -0.358524  p = 0.72064\n",
      "requirement: 10*117. ttest_ind:     t = -0.178432  p = 0.858723\n",
      "requirement: 10*118. ttest_ind:     t = -0.221139  p = 0.82542\n",
      "requirement: 10*119. ttest_ind:     t = -0.159794  p = 0.873359\n",
      "requirement: 10*120. ttest_ind:     t = -0.20305  p = 0.839512\n",
      "requirement: 10*121. ttest_ind:     t = -0.0147523  p = 0.98826\n",
      "requirement: 10*122. ttest_ind:     t = 0.202307  p = 0.84014\n",
      "requirement: 10*123. ttest_ind:     t = 0.399435  p = 0.690568\n",
      "requirement: 10*124. ttest_ind:     t = 0.465797  p = 0.642559\n",
      "requirement: 10*125. ttest_ind:     t = 0.0815831  p = 0.935184\n",
      "requirement: 10*126. ttest_ind:     t = 0.220113  p = 0.826364\n",
      "requirement: 10*127. ttest_ind:     t = 0.220113  p = 0.826364\n",
      "requirement: 10*128. ttest_ind:     t = 0.289912  p = 0.772671\n",
      "requirement: 10*129. ttest_ind:     t = 0.289912  p = 0.772671\n",
      "requirement: 10*130. ttest_ind:     t = 0.289912  p = 0.772671\n",
      "requirement: 10*131. ttest_ind:     t = 0.289912  p = 0.772671\n",
      "requirement: 10*132. ttest_ind:     t = 0.250598  p = 0.802827\n",
      "requirement: 10*133. ttest_ind:     t = 0.539676  p = 0.591158\n",
      "requirement: 10*134. ttest_ind:     t = 0.91252  p = 0.36493\n",
      "requirement: 10*135. ttest_ind:     t = 0.91252  p = 0.36493\n",
      "requirement: 10*136. ttest_ind:     t = 0.623133  p = 0.535529\n",
      "requirement: 10*137. ttest_ind:     t = 0.701172  p = 0.485919\n",
      "requirement: 10*138. ttest_ind:     t = 0.517397  p = 0.607092\n",
      "requirement: 10*139. ttest_ind:     t = 0.517397  p = 0.607092\n",
      "requirement: 10*140. ttest_ind:     t = 0.773141  p = 0.443193\n",
      "requirement: 10*141. ttest_ind:     t = 0.923214  p = 0.361004\n",
      "requirement: 10*142. ttest_ind:     t = 0.710319  p = 0.481399\n",
      "requirement: 10*143. ttest_ind:     t = 0.803172  p = 0.426469\n",
      "requirement: 10*144. ttest_ind:     t = 0.992915  p = 0.326826\n",
      "requirement: 10*145. ttest_ind:     t = 0.992915  p = 0.326826\n",
      "requirement: 10*146. ttest_ind:     t = 0.773086  p = 0.444218\n"
     ]
    },
    {
     "name": "stdout",
     "output_type": "stream",
     "text": [
      "requirement: 10*147. ttest_ind:     t = 0.401538  p = 0.690447\n",
      "requirement: 10*148. ttest_ind:     t = 0.50258  p = 0.618477\n",
      "requirement: 10*149. ttest_ind:     t = 0.249614  p = 0.804422\n",
      "requirement: 10*150. ttest_ind:     t = 0.249614  p = 0.804422\n",
      "requirement: 10*151. ttest_ind:     t = 0.249614  p = 0.804422\n",
      "requirement: 10*152. ttest_ind:     t = -0.0207646  p = 0.983561\n",
      "requirement: 10*153. ttest_ind:     t = -0.0207646  p = 0.983561\n",
      "requirement: 10*154. ttest_ind:     t = 0.0854951  p = 0.932414\n",
      "requirement: 10*155. ttest_ind:     t = 0.192984  p = 0.848264\n",
      "requirement: 10*156. ttest_ind:     t = 0.301865  p = 0.764896\n",
      "requirement: 10*157. ttest_ind:     t = 0.0178254  p = 0.985904\n",
      "requirement: 10*158. ttest_ind:     t = 0.130827  p = 0.896876\n",
      "requirement: 10*159. ttest_ind:     t = 0.130827  p = 0.896876\n",
      "requirement: 10*160. ttest_ind:     t = 0.130827  p = 0.896876\n",
      "requirement: 10*161. ttest_ind:     t = -0.0578935  p = 0.954291\n",
      "requirement: 10*162. ttest_ind:     t = -0.394648  p = 0.696568\n",
      "requirement: 10*163. ttest_ind:     t = -0.394648  p = 0.696568\n",
      "requirement: 10*164. ttest_ind:     t = -0.394648  p = 0.696568\n",
      "requirement: 10*165. ttest_ind:     t = -0.394648  p = 0.696568\n",
      "requirement: 10*166. ttest_ind:     t = -0.016811  p = 0.986745\n",
      "requirement: 10*167. ttest_ind:     t = -0.24548  p = 0.808705\n",
      "requirement: 10*168. ttest_ind:     t = -0.24548  p = 0.808705\n",
      "requirement: 10*169. ttest_ind:     t = -0.517541  p = 0.611419\n",
      "requirement: 10*170. ttest_ind:     t = -1.0278  p = 0.319259\n",
      "requirement: 10*171. ttest_ind:     t = -0.862478  p = 0.401945\n",
      "requirement: 10*172. ttest_ind:     t = -0.696053  p = 0.497746\n",
      "requirement: 10*173. ttest_ind:     t = -0.696053  p = 0.497746\n",
      "requirement: 10*174. ttest_ind:     t = -0.528238  p = 0.606204\n",
      "requirement: 10*175. ttest_ind:     t = -0.528238  p = 0.606204\n",
      "requirement: 10*176. ttest_ind:     t = -2.29171  p = 0.0425075\n",
      "requirement: 10*177. ttest_ind:     t = -1.7436  p = 0.115049\n",
      "requirement: 10*178. ttest_ind:     t = -1.7436  p = 0.115049\n",
      "requirement: 10*179. ttest_ind:     t = -58.243  p = 0\n",
      "requirement: 10*180. ttest_ind:     t = -58.2418  p = 0\n",
      "requirement: 10*181. ttest_ind:     t = -58.2418  p = 0\n",
      "requirement: 10*182. ttest_ind:     t = -58.2418  p = 0\n",
      "requirement: 10*183. ttest_ind:     t = -58.2393  p = 0\n",
      "requirement: 10*184. ttest_ind:     t = -58.2393  p = 0\n",
      "requirement: 10*185. ttest_ind:     t = -58.2393  p = 0\n",
      "requirement: 10*186. ttest_ind:     t = -58.2393  p = 0\n",
      "requirement: 10*187. ttest_ind:     t = -58.2393  p = 0\n",
      "requirement: 10*188. ttest_ind:     t = -58.2381  p = 0\n",
      "requirement: 10*189. ttest_ind:     t = -58.2381  p = 0\n",
      "requirement: 10*190. ttest_ind:     t = -58.2381  p = 0\n",
      "requirement: 10*191. ttest_ind:     t = -58.2381  p = 0\n",
      "requirement: 10*192. ttest_ind:     t = -58.2381  p = 0\n",
      "requirement: 10*193. ttest_ind:     t = -58.2381  p = 0\n",
      "requirement: 10*194. ttest_ind:     t = -58.2381  p = 0\n",
      "requirement: 10*195. ttest_ind:     t = -58.2369  p = 0\n",
      "requirement: 10*196. ttest_ind:     t = -58.2369  p = 0\n",
      "requirement: 10*197. ttest_ind:     t = -58.2369  p = 0\n",
      "requirement: 10*198. ttest_ind:     t = -58.2369  p = 0\n",
      "requirement: 10*199. ttest_ind:     t = -58.2369  p = 0\n",
      "requirement: 10*200. ttest_ind:     t = -58.2369  p = 0\n",
      "requirement: 10*201. ttest_ind:     t = -58.2369  p = 0\n",
      "requirement: 10*202. ttest_ind:     t = -58.2369  p = 0\n",
      "requirement: 10*203. ttest_ind:     t = -58.2369  p = 0\n",
      "requirement: 10*204. ttest_ind:     t = -58.2369  p = 0\n",
      "requirement: 10*205. ttest_ind:     t = -58.2369  p = 0\n",
      "requirement: 10*206. ttest_ind:     t = -58.2369  p = 0\n",
      "requirement: 10*207. ttest_ind:     t = -58.2369  p = 0\n",
      "requirement: 10*208. ttest_ind:     t = -58.2369  p = 0\n",
      "requirement: 10*209. ttest_ind:     t = -58.2369  p = 0\n",
      "requirement: 10*210. ttest_ind:     t = -58.2369  p = 0\n",
      "requirement: 10*211. ttest_ind:     t = -58.2369  p = 0\n",
      "requirement: 10*212. ttest_ind:     t = -58.2369  p = 0\n",
      "requirement: 10*213. ttest_ind:     t = -58.2369  p = 0\n",
      "requirement: 10*214. ttest_ind:     t = -58.2369  p = 0\n",
      "requirement: 10*215. ttest_ind:     t = -58.2369  p = 0\n",
      "requirement: 10*216. ttest_ind:     t = -58.2369  p = 0\n",
      "requirement: 10*217. ttest_ind:     t = -58.2369  p = 0\n",
      "requirement: 10*218. ttest_ind:     t = -58.2369  p = 0\n",
      "requirement: 10*219. ttest_ind:     t = -58.2369  p = 0\n",
      "requirement: 10*220. ttest_ind:     t = -58.2369  p = 0\n",
      "requirement: 10*221. ttest_ind:     t = -58.2369  p = 0\n",
      "requirement: 10*222. ttest_ind:     t = -58.2369  p = 0\n",
      "requirement: 10*223. ttest_ind:     t = -58.2369  p = 0\n",
      "requirement: 10*224. ttest_ind:     t = -58.2369  p = 0\n",
      "requirement: 10*225. ttest_ind:     t = -58.2369  p = 0\n",
      "requirement: 10*226. ttest_ind:     t = -58.2369  p = 0\n",
      "requirement: 10*227. ttest_ind:     t = -58.2369  p = 0\n",
      "requirement: 10*228. ttest_ind:     t = -58.2369  p = 0\n",
      "requirement: 10*229. ttest_ind:     t = -58.2369  p = 0\n",
      "requirement: 10*230. ttest_ind:     t = -58.2369  p = 0\n",
      "requirement: 10*231. ttest_ind:     t = -58.2369  p = 0\n",
      "requirement: 10*232. ttest_ind:     t = -58.2369  p = 0\n",
      "requirement: 10*233. ttest_ind:     t = -58.2369  p = 0\n",
      "requirement: 10*234. ttest_ind:     t = -58.2369  p = 0\n",
      "requirement: 10*235. ttest_ind:     t = -58.2369  p = 0\n",
      "requirement: 10*236. ttest_ind:     t = -58.2369  p = 0\n",
      "requirement: 10*237. ttest_ind:     t = -58.2369  p = 0\n",
      "requirement: 10*238. ttest_ind:     t = -58.2369  p = 0\n",
      "requirement: 10*239. ttest_ind:     t = -58.2369  p = 0\n",
      "requirement: 10*240. ttest_ind:     t = -58.2369  p = 0\n",
      "requirement: 10*241. ttest_ind:     t = -58.2369  p = 0\n",
      "requirement: 10*242. ttest_ind:     t = -58.2369  p = 0\n",
      "requirement: 10*243. ttest_ind:     t = -58.2369  p = 0\n",
      "requirement: 10*244. ttest_ind:     t = -58.2369  p = 0\n",
      "requirement: 10*245. ttest_ind:     t = -58.2369  p = 0\n",
      "requirement: 10*246. ttest_ind:     t = -58.2369  p = 0\n",
      "requirement: 10*247. ttest_ind:     t = -58.2369  p = 0\n",
      "requirement: 10*248. ttest_ind:     t = -58.2369  p = 0\n",
      "requirement: 10*249. ttest_ind:     t = -58.2369  p = 0\n",
      "requirement: 10*250. ttest_ind:     t = -58.2369  p = 0\n",
      "requirement: 10*251. ttest_ind:     t = -58.2369  p = 0\n",
      "requirement: 10*252. ttest_ind:     t = -58.2369  p = 0\n",
      "requirement: 10*253. ttest_ind:     t = -58.2369  p = 0\n",
      "requirement: 10*254. ttest_ind:     t = -58.2369  p = 0\n",
      "requirement: 10*255. ttest_ind:     t = -58.2357  p = 0\n",
      "requirement: 10*256. ttest_ind:     t = -58.2357  p = 0\n",
      "requirement: 10*257. ttest_ind:     t = -58.2357  p = 0\n",
      "requirement: 10*258. ttest_ind:     t = -58.2357  p = 0\n",
      "requirement: 10*259. ttest_ind:     t = -58.2357  p = 0\n",
      "requirement: 10*260. ttest_ind:     t = -58.2357  p = 0\n",
      "requirement: 10*261. ttest_ind:     t = -58.2357  p = 0\n",
      "requirement: 10*262. ttest_ind:     t = -58.2357  p = 0\n",
      "requirement: 10*263. ttest_ind:     t = -58.2357  p = 0\n",
      "requirement: 10*264. ttest_ind:     t = -58.2357  p = 0\n",
      "requirement: 10*265. ttest_ind:     t = -58.2357  p = 0\n",
      "requirement: 10*266. ttest_ind:     t = nan  p = nan\n",
      "requirement: 10*267. ttest_ind:     t = nan  p = nan\n",
      "requirement: 10*268. ttest_ind:     t = nan  p = nan\n",
      "requirement: 10*269. ttest_ind:     t = nan  p = nan\n",
      "requirement: 10*270. ttest_ind:     t = nan  p = nan\n",
      "requirement: 10*271. ttest_ind:     t = nan  p = nan\n",
      "requirement: 10*272. ttest_ind:     t = nan  p = nan\n",
      "requirement: 10*273. ttest_ind:     t = nan  p = nan\n",
      "requirement: 10*274. ttest_ind:     t = nan  p = nan\n",
      "requirement: 10*275. ttest_ind:     t = nan  p = nan\n",
      "requirement: 10*276. ttest_ind:     t = nan  p = nan\n",
      "requirement: 10*277. ttest_ind:     t = nan  p = nan\n",
      "requirement: 10*278. ttest_ind:     t = nan  p = nan\n",
      "requirement: 10*279. ttest_ind:     t = nan  p = nan\n",
      "requirement: 10*280. ttest_ind:     t = nan  p = nan\n",
      "requirement: 10*281. ttest_ind:     t = nan  p = nan\n",
      "requirement: 10*282. ttest_ind:     t = nan  p = nan\n",
      "requirement: 10*283. ttest_ind:     t = nan  p = nan\n",
      "requirement: 10*284. ttest_ind:     t = nan  p = nan\n",
      "requirement: 10*285. ttest_ind:     t = nan  p = nan\n",
      "requirement: 10*286. ttest_ind:     t = nan  p = nan\n",
      "requirement: 10*287. ttest_ind:     t = nan  p = nan\n",
      "requirement: 10*288. ttest_ind:     t = nan  p = nan\n",
      "requirement: 10*289. ttest_ind:     t = nan  p = nan\n",
      "requirement: 10*290. ttest_ind:     t = nan  p = nan\n",
      "requirement: 10*291. ttest_ind:     t = nan  p = nan\n",
      "requirement: 10*292. ttest_ind:     t = nan  p = nan\n",
      "requirement: 10*293. ttest_ind:     t = nan  p = nan\n",
      "requirement: 10*294. ttest_ind:     t = nan  p = nan\n",
      "requirement: 10*295. ttest_ind:     t = nan  p = nan\n",
      "requirement: 10*296. ttest_ind:     t = nan  p = nan\n",
      "requirement: 10*297. ttest_ind:     t = nan  p = nan\n",
      "requirement: 10*298. ttest_ind:     t = nan  p = nan\n",
      "requirement: 10*299. ttest_ind:     t = nan  p = nan\n",
      "requirement: 10*300. ttest_ind:     t = nan  p = nan\n",
      "requirement: 10*301. ttest_ind:     t = nan  p = nan\n"
     ]
    },
    {
     "name": "stdout",
     "output_type": "stream",
     "text": [
      "requirement: 10*302. ttest_ind:     t = nan  p = nan\n",
      "requirement: 10*303. ttest_ind:     t = nan  p = nan\n",
      "requirement: 10*304. ttest_ind:     t = nan  p = nan\n",
      "requirement: 10*305. ttest_ind:     t = nan  p = nan\n",
      "requirement: 10*306. ttest_ind:     t = nan  p = nan\n",
      "requirement: 10*307. ttest_ind:     t = nan  p = nan\n",
      "requirement: 10*308. ttest_ind:     t = nan  p = nan\n",
      "requirement: 10*309. ttest_ind:     t = nan  p = nan\n",
      "requirement: 10*310. ttest_ind:     t = nan  p = nan\n",
      "requirement: 10*311. ttest_ind:     t = nan  p = nan\n",
      "requirement: 10*312. ttest_ind:     t = nan  p = nan\n",
      "requirement: 10*313. ttest_ind:     t = nan  p = nan\n",
      "requirement: 10*314. ttest_ind:     t = nan  p = nan\n",
      "requirement: 10*315. ttest_ind:     t = nan  p = nan\n",
      "requirement: 10*316. ttest_ind:     t = nan  p = nan\n",
      "requirement: 10*317. ttest_ind:     t = nan  p = nan\n"
     ]
    }
   ],
   "source": [
    "for i in meslen_group:\n",
    "    DF.mes_len = DF.m_first_message_length>10*i\n",
    "    DF.mes_len = DF.mes_len.apply(int)\n",
    "    #check if message longer than 10i words results better accepted rate.\n",
    "    a = DF.accepted[DF.mes_len == 1]\n",
    "    b = DF.accepted[DF.mes_len == 0]\n",
    "    t, p = ttest_ind(a, b, equal_var=False)\n",
    "    print(\"requirement: 10*%g. ttest_ind:     t = %g  p = %g\" % (i,t, p))"
   ]
  },
  {
   "cell_type": "markdown",
   "metadata": {},
   "source": [
    "## requirement: 10*24. ttest_ind:     t = 1.80298  p = 0.0714259\n",
    "## requirement: 10*27. ttest_ind:     t = 2.02038  p = 0.0433706\n",
    "## requirement: 10*28. ttest_ind:     t = 1.97819  p = 0.0479346\n",
    "## requirement: 10*30. ttest_ind:     t = 1.95209  p = 0.0509551\n",
    "## requirement: 10*31. ttest_ind:     t = 1.99222  p = 0.0463748\n",
    "## requirement: 10*32. ttest_ind:     t = 2.05044  p = 0.0403491"
   ]
  },
  {
   "cell_type": "code",
   "execution_count": 26,
   "metadata": {},
   "outputs": [
    {
     "data": {
      "text/plain": [
       "<matplotlib.axes._subplots.AxesSubplot at 0x110ed3690>"
      ]
     },
     "execution_count": 26,
     "metadata": {},
     "output_type": "execute_result"
    },
    {
     "data": {
      "image/png": "[encoded data removed]",
      "text/plain": [
       "<matplotlib.figure.Figure at 0x111719610>"
      ]
     },
     "metadata": {},
     "output_type": "display_data"
    }
   ],
   "source": [
    "DF.m_first_message_length[DF.m_first_message_length<=800].hist(bins = 300)"
   ]
  },
  {
   "cell_type": "code",
   "execution_count": 27,
   "metadata": {},
   "outputs": [
    {
     "data": {
      "text/plain": [
       "0.14381270903010032"
      ]
     },
     "execution_count": 27,
     "metadata": {},
     "output_type": "execute_result"
    }
   ],
   "source": [
    "float(len(DF.m_first_message_length[DF.m_first_message_length<=140]))/float(len(DF.m_first_message_length))"
   ]
  },
  {
   "cell_type": "code",
   "execution_count": 28,
   "metadata": {},
   "outputs": [
    {
     "data": {
      "text/plain": [
       "0.5745819397993311"
      ]
     },
     "execution_count": 28,
     "metadata": {},
     "output_type": "execute_result"
    }
   ],
   "source": [
    "float(len(DF.m_first_message_length[DF.m_first_message_length<=320]))/float(len(DF.m_first_message_length))"
   ]
  },
  {
   "cell_type": "markdown",
   "metadata": {},
   "source": [
    "## From the above histogram, we can say that the p-value of the test of 140 words fails because the number of users who write request with 140 words or less is relatively too small."
   ]
  },
  {
   "cell_type": "code",
   "execution_count": 29,
   "metadata": {},
   "outputs": [
    {
     "data": {
      "text/plain": [
       "<matplotlib.axes._subplots.AxesSubplot at 0x1123172d0>"
      ]
     },
     "execution_count": 29,
     "metadata": {},
     "output_type": "execute_result"
    },
    {
     "data": {
      "image/png": "[encoded data removed]",
      "text/plain": [
       "<matplotlib.figure.Figure at 0x110eb7bd0>"
      ]
     },
     "metadata": {},
     "output_type": "display_data"
    }
   ],
   "source": [
    "DF.m_first_message_length[DF.m_first_message_length<=400].hist(bins = 300)"
   ]
  },
  {
   "cell_type": "markdown",
   "metadata": {},
   "source": [
    "## According to the t-tests, the best number of words might be 320. \n",
    "## According to the histogram, the number of users doesn't decrease significantly as the number of words increases when the number of words is around 320. \n",
    "## So my suggestion for further exiperiment is setting the required number of words as 320. "
   ]
  },
  {
   "cell_type": "code",
   "execution_count": null,
   "metadata": {
    "collapsed": true
   },
   "outputs": [],
   "source": []
  }
 ],
 "metadata": {
  "kernelspec": {
   "display_name": "Python 2",
   "language": "python",
   "name": "python2"
  },
  "language_info": {
   "codemirror_mode": {
    "name": "ipython",
    "version": 2
   },
   "file_extension": ".py",
   "mimetype": "text/x-python",
   "name": "python",
   "nbconvert_exporter": "python",
   "pygments_lexer": "ipython2",
   "version": "2.7.13"
  }
 },
 "nbformat": 4,
 "nbformat_minor": 2
}
